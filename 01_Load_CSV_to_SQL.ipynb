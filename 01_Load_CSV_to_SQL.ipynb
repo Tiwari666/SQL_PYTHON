{
 "cells": [
  {
   "cell_type": "code",
   "execution_count": 1,
   "id": "6733279a",
   "metadata": {},
   "outputs": [
    {
     "name": "stdout",
     "output_type": "stream",
     "text": [
      "Requirement already satisfied: pandas in c:\\users\\naren\\desktop\\new_ds\\sql_python\\sql_python_env\\lib\\site-packages (2.2.3)\n",
      "Requirement already satisfied: sqlalchemy in c:\\users\\naren\\desktop\\new_ds\\sql_python\\sql_python_env\\lib\\site-packages (2.0.41)\n",
      "Requirement already satisfied: pyodbc in c:\\users\\naren\\desktop\\new_ds\\sql_python\\sql_python_env\\lib\\site-packages (5.2.0)\n",
      "Requirement already satisfied: numpy>=1.23.2 in c:\\users\\naren\\desktop\\new_ds\\sql_python\\sql_python_env\\lib\\site-packages (from pandas) (2.2.6)\n",
      "Requirement already satisfied: python-dateutil>=2.8.2 in c:\\users\\naren\\desktop\\new_ds\\sql_python\\sql_python_env\\lib\\site-packages (from pandas) (2.9.0.post0)\n",
      "Requirement already satisfied: pytz>=2020.1 in c:\\users\\naren\\desktop\\new_ds\\sql_python\\sql_python_env\\lib\\site-packages (from pandas) (2025.2)\n",
      "Requirement already satisfied: tzdata>=2022.7 in c:\\users\\naren\\desktop\\new_ds\\sql_python\\sql_python_env\\lib\\site-packages (from pandas) (2025.2)\n",
      "Requirement already satisfied: greenlet>=1 in c:\\users\\naren\\desktop\\new_ds\\sql_python\\sql_python_env\\lib\\site-packages (from sqlalchemy) (3.2.2)\n",
      "Requirement already satisfied: typing-extensions>=4.6.0 in c:\\users\\naren\\desktop\\new_ds\\sql_python\\sql_python_env\\lib\\site-packages (from sqlalchemy) (4.14.0)\n",
      "Requirement already satisfied: six>=1.5 in c:\\users\\naren\\desktop\\new_ds\\sql_python\\sql_python_env\\lib\\site-packages (from python-dateutil>=2.8.2->pandas) (1.17.0)\n",
      "Note: you may need to restart the kernel to use updated packages.\n"
     ]
    },
    {
     "name": "stderr",
     "output_type": "stream",
     "text": [
      "\n",
      "[notice] A new release of pip is available: 24.0 -> 25.1.1\n",
      "[notice] To update, run: python.exe -m pip install --upgrade pip\n"
     ]
    }
   ],
   "source": [
    "pip install pandas sqlalchemy pyodbc"
   ]
  },
  {
   "cell_type": "code",
   "execution_count": 1,
   "id": "8d9be3c5",
   "metadata": {},
   "outputs": [
    {
     "name": "stdout",
     "output_type": "stream",
     "text": [
      "✅ 'customers.csv' uploaded to SQL Server table 'customers'\n"
     ]
    }
   ],
   "source": [
    "import pandas as pd\n",
    "from sqlalchemy import create_engine\n",
    "\n",
    "# Load CSV (no extension shown, so add manually)\n",
    "df = pd.read_csv(r\"C:\\Users\\naren\\Desktop\\New_DS\\SQL_Python\\data\\customers.csv\")\n",
    "\n",
    "# Connect to SQL Server\n",
    "engine = create_engine(\n",
    "    \"mssql+pyodbc://NARENDRA\\\\SQLEXPRESS/sql_to_python?driver=ODBC+Driver+17+for+SQL+Server&trusted_connection=yes\"\n",
    ")\n",
    "\n",
    "# Upload to SQL Server (auto-creates table)\n",
    "df.to_sql(name=\"customers\", con=engine, if_exists=\"replace\", index=False)\n",
    "\n",
    "print(\"✅ 'customers.csv' uploaded to SQL Server table 'customers'\")"
   ]
  },
  {
   "cell_type": "code",
   "execution_count": 2,
   "id": "cb0e7215",
   "metadata": {},
   "outputs": [
    {
     "name": "stdout",
     "output_type": "stream",
     "text": [
      "✅ Uploaded: customers\n",
      "✅ Uploaded: geolocation\n",
      "✅ Uploaded: order_items\n",
      "✅ Uploaded: orders\n",
      "✅ Uploaded: payments\n",
      "✅ Uploaded: products\n",
      "✅ Uploaded: sellers\n"
     ]
    }
   ],
   "source": [
    "import pandas as pd\n",
    "import os\n",
    "from sqlalchemy import create_engine\n",
    "\n",
    "# 1. Folder path containing CSV files\n",
    "folder_path = r\"C:\\Users\\naren\\Desktop\\New_DS\\SQL_Python\\data\"\n",
    "\n",
    "# 2. List of CSV file base names (same as table names)\n",
    "table_names = [\"customers\", \"geolocation\", \"order_items\", \"orders\", \"payments\", \"products\", \"sellers\"]\n",
    "\n",
    "# 3. SQL Server connection string\n",
    "engine = create_engine(\n",
    "    \"mssql+pyodbc://NARENDRA\\\\SQLEXPRESS/sql_to_python?driver=ODBC+Driver+17+for+SQL+Server&trusted_connection=yes\"\n",
    ")\n",
    "\n",
    "# 4. Loop to load and upload each CSV\n",
    "for table in table_names:\n",
    "    file_path = os.path.join(folder_path, f\"{table}.csv\")\n",
    "    try:\n",
    "        df = pd.read_csv(file_path)\n",
    "        df.to_sql(name=table, con=engine, if_exists=\"replace\", index=False)\n",
    "        print(f\"✅ Uploaded: {table}\")\n",
    "    except Exception as e:\n",
    "        print(f\"❌ Failed: {table} — {e}\")"
   ]
  },
  {
   "cell_type": "code",
   "execution_count": 3,
   "id": "b0d6f045",
   "metadata": {},
   "outputs": [
    {
     "name": "stdout",
     "output_type": "stream",
     "text": [
      "                        customer_id                customer_unique_id  \\\n",
      "0  06b8999e2fba1a1fbc88172c00ba8bc7  861eff4711a542e4b93843c6dd7febb0   \n",
      "1  18955e83d337fd6b2def6b18a428ac77  290c77bc529b7ac935b93aa66c333dc3   \n",
      "2  4e7b3e00288586ebd08712fdd0374a03  060e732b5b29e8181a18229c7b0b2b5e   \n",
      "3  b2b6027bc5c5109e529d4dc6358b12c3  259dac757896d24d7702b9acbbff3f3c   \n",
      "4  4f2d8ab171c80ec8364f7c12e35b23ad  345ecd01c38d18a9036ed96c73b8d066   \n",
      "\n",
      "   customer_zip_code_prefix          customer_city customer_state  \n",
      "0                     14409                 franca             SP  \n",
      "1                      9790  sao bernardo do campo             SP  \n",
      "2                      1151              sao paulo             SP  \n",
      "3                      8775        mogi das cruzes             SP  \n",
      "4                     13056               campinas             SP  \n"
     ]
    }
   ],
   "source": [
    "import pandas as pd\n",
    "from sqlalchemy import create_engine\n",
    "\n",
    "# Use SQLAlchemy engine (instead of pyodbc)\n",
    "engine = create_engine(\n",
    "    \"mssql+pyodbc://NARENDRA\\\\SQLEXPRESS/sql_to_python?driver=ODBC+Driver+17+for+SQL+Server&trusted_connection=yes\"\n",
    ")\n",
    "\n",
    "# Query the customers table\n",
    "query = \"SELECT * FROM customers\"\n",
    "df = pd.read_sql(query, engine)\n",
    "\n",
    "print(df.head())"
   ]
  },
  {
   "cell_type": "markdown",
   "id": "4048bd53",
   "metadata": {},
   "source": [
    "#  Get top 5 cities with most customers"
   ]
  },
  {
   "cell_type": "code",
   "execution_count": 13,
   "id": "6833837e",
   "metadata": {},
   "outputs": [
    {
     "name": "stdout",
     "output_type": "stream",
     "text": [
      "    customer_city  total\n",
      "0       sao paulo  15540\n",
      "1  rio de janeiro   6882\n",
      "2  belo horizonte   2773\n",
      "3        brasilia   2131\n",
      "4        curitiba   1521\n"
     ]
    }
   ],
   "source": [
    "import pandas as pd\n",
    "from sqlalchemy import create_engine\n",
    "\n",
    "# Create SQLAlchemy engine (no warning)\n",
    "engine = create_engine(\n",
    "    \"mssql+pyodbc://NARENDRA\\\\SQLEXPRESS/sql_to_python?driver=ODBC+Driver+17+for+SQL+Server&trusted_connection=yes\"\n",
    ")\n",
    "\n",
    "# Your SQL query\n",
    "query = \"\"\"\n",
    "SELECT customer_city, COUNT(*) AS total\n",
    "FROM customers\n",
    "GROUP BY customer_city\n",
    "ORDER BY total DESC\n",
    "\"\"\"\n",
    "\n",
    "# Run query with pandas\n",
    "df = pd.read_sql(query, engine)\n",
    "\n",
    "# Show result\n",
    "print(df.head())"
   ]
  }
 ],
 "metadata": {
  "kernelspec": {
   "display_name": "sql_python_env",
   "language": "python",
   "name": "python3"
  },
  "language_info": {
   "codemirror_mode": {
    "name": "ipython",
    "version": 3
   },
   "file_extension": ".py",
   "mimetype": "text/x-python",
   "name": "python",
   "nbconvert_exporter": "python",
   "pygments_lexer": "ipython3",
   "version": "3.11.9"
  }
 },
 "nbformat": 4,
 "nbformat_minor": 5
}
