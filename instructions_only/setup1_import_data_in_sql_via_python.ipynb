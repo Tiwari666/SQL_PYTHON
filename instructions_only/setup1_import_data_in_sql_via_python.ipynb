{
 "cells": [
  {
   "cell_type": "markdown",
   "id": "0adf914c",
   "metadata": {},
   "source": [
    "1. collect all data \n",
    "\n",
    "2. we need all data in the table form in SQL via using the python.\n",
    "\n",
    "3. connnect the python and sql server in the csv_to_sql.ipynb.\n",
    "\n",
    "4. \n",
    "\n"
   ]
  }
 ],
 "metadata": {
  "language_info": {
   "name": "python"
  }
 },
 "nbformat": 4,
 "nbformat_minor": 5
}
