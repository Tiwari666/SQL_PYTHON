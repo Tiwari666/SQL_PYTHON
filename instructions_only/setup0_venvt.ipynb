{
 "cells": [
  {
   "cell_type": "markdown",
   "id": "8bdbacca",
   "metadata": {},
   "source": [
    "1. conda create --name sql_python_env python=3.11\n",
    "\n",
    "\n",
    "2. conda activate sql_python_env\n",
    "\n",
    "3. conda env list\n",
    "\n"
   ]
  }
 ],
 "metadata": {
  "kernelspec": {
   "display_name": "sql_python_env",
   "language": "python",
   "name": "python3"
  },
  "language_info": {
   "name": "python",
   "version": "3.11.9"
  }
 },
 "nbformat": 4,
 "nbformat_minor": 5
}
